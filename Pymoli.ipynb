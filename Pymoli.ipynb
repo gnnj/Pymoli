{
 "cells": [
  {
   "cell_type": "code",
   "execution_count": 19,
   "metadata": {
    "collapsed": true
   },
   "outputs": [],
   "source": [
    "# Import modules\n",
    "import pandas as pd\n",
    "import json\n",
    "import os"
   ]
  },
  {
   "cell_type": "code",
   "execution_count": 20,
   "metadata": {
    "collapsed": true
   },
   "outputs": [],
   "source": [
    "# Load JSON File\n",
    "file = os.path.join('purchase_data.json')\n",
    "\n",
    "data = pd.read_json(file)"
   ]
  },
  {
   "cell_type": "code",
   "execution_count": 21,
   "metadata": {
    "scrolled": true
   },
   "outputs": [
    {
     "data": {
      "text/html": [
       "<div>\n",
       "<style>\n",
       "    .dataframe thead tr:only-child th {\n",
       "        text-align: right;\n",
       "    }\n",
       "\n",
       "    .dataframe thead th {\n",
       "        text-align: left;\n",
       "    }\n",
       "\n",
       "    .dataframe tbody tr th {\n",
       "        vertical-align: top;\n",
       "    }\n",
       "</style>\n",
       "<table border=\"1\" class=\"dataframe\">\n",
       "  <thead>\n",
       "    <tr style=\"text-align: right;\">\n",
       "      <th></th>\n",
       "      <th>Age</th>\n",
       "      <th>Gender</th>\n",
       "      <th>Item ID</th>\n",
       "      <th>Item Name</th>\n",
       "      <th>Price</th>\n",
       "      <th>SN</th>\n",
       "    </tr>\n",
       "  </thead>\n",
       "  <tbody>\n",
       "    <tr>\n",
       "      <th>0</th>\n",
       "      <td>38</td>\n",
       "      <td>Male</td>\n",
       "      <td>165</td>\n",
       "      <td>Bone Crushing Silver Skewer</td>\n",
       "      <td>3.37</td>\n",
       "      <td>Aelalis34</td>\n",
       "    </tr>\n",
       "    <tr>\n",
       "      <th>1</th>\n",
       "      <td>21</td>\n",
       "      <td>Male</td>\n",
       "      <td>119</td>\n",
       "      <td>Stormbringer, Dark Blade of Ending Misery</td>\n",
       "      <td>2.32</td>\n",
       "      <td>Eolo46</td>\n",
       "    </tr>\n",
       "    <tr>\n",
       "      <th>2</th>\n",
       "      <td>34</td>\n",
       "      <td>Male</td>\n",
       "      <td>174</td>\n",
       "      <td>Primitive Blade</td>\n",
       "      <td>2.46</td>\n",
       "      <td>Assastnya25</td>\n",
       "    </tr>\n",
       "    <tr>\n",
       "      <th>3</th>\n",
       "      <td>21</td>\n",
       "      <td>Male</td>\n",
       "      <td>92</td>\n",
       "      <td>Final Critic</td>\n",
       "      <td>1.36</td>\n",
       "      <td>Pheusrical25</td>\n",
       "    </tr>\n",
       "    <tr>\n",
       "      <th>4</th>\n",
       "      <td>23</td>\n",
       "      <td>Male</td>\n",
       "      <td>63</td>\n",
       "      <td>Stormfury Mace</td>\n",
       "      <td>1.27</td>\n",
       "      <td>Aela59</td>\n",
       "    </tr>\n",
       "  </tbody>\n",
       "</table>\n",
       "</div>"
      ],
      "text/plain": [
       "   Age Gender  Item ID                                  Item Name  Price  \\\n",
       "0   38   Male      165                Bone Crushing Silver Skewer   3.37   \n",
       "1   21   Male      119  Stormbringer, Dark Blade of Ending Misery   2.32   \n",
       "2   34   Male      174                            Primitive Blade   2.46   \n",
       "3   21   Male       92                               Final Critic   1.36   \n",
       "4   23   Male       63                             Stormfury Mace   1.27   \n",
       "\n",
       "             SN  \n",
       "0     Aelalis34  \n",
       "1        Eolo46  \n",
       "2   Assastnya25  \n",
       "3  Pheusrical25  \n",
       "4        Aela59  "
      ]
     },
     "execution_count": 21,
     "metadata": {},
     "output_type": "execute_result"
    }
   ],
   "source": [
    "# Check JSON File\n",
    "data.head()"
   ]
  },
  {
   "cell_type": "markdown",
   "metadata": {},
   "source": [
    "# Player Count"
   ]
  },
  {
   "cell_type": "code",
   "execution_count": 22,
   "metadata": {},
   "outputs": [
    {
     "data": {
      "text/html": [
       "<div>\n",
       "<style>\n",
       "    .dataframe thead tr:only-child th {\n",
       "        text-align: right;\n",
       "    }\n",
       "\n",
       "    .dataframe thead th {\n",
       "        text-align: left;\n",
       "    }\n",
       "\n",
       "    .dataframe tbody tr th {\n",
       "        vertical-align: top;\n",
       "    }\n",
       "</style>\n",
       "<table border=\"1\" class=\"dataframe\">\n",
       "  <thead>\n",
       "    <tr style=\"text-align: right;\">\n",
       "      <th></th>\n",
       "    </tr>\n",
       "    <tr>\n",
       "      <th>Total Players</th>\n",
       "    </tr>\n",
       "  </thead>\n",
       "  <tbody>\n",
       "    <tr>\n",
       "      <th>573</th>\n",
       "    </tr>\n",
       "  </tbody>\n",
       "</table>\n",
       "</div>"
      ],
      "text/plain": [
       "Empty DataFrame\n",
       "Columns: []\n",
       "Index: [573]"
      ]
     },
     "execution_count": 22,
     "metadata": {},
     "output_type": "execute_result"
    }
   ],
   "source": [
    "# Player Count\n",
    "# Total Number of Players\n",
    "\n",
    "player_count = len(data['SN'].unique())\n",
    "\n",
    "players_df = pd.DataFrame([{'Total Players': player_count}])\n",
    "\n",
    "players_df.set_index('Total Players', inplace = True)\n",
    "players_df"
   ]
  },
  {
   "cell_type": "markdown",
   "metadata": {},
   "source": [
    "# Purchasing Analysis (Total)"
   ]
  },
  {
   "cell_type": "code",
   "execution_count": 23,
   "metadata": {},
   "outputs": [
    {
     "data": {
      "text/html": [
       "<style  type=\"text/css\" >\n",
       "</style>  \n",
       "<table id=\"T_2eeb234c_dc88_11e7_b8fc_7c04d0bccd24\" > \n",
       "<thead>    <tr> \n",
       "        <th class=\"blank level0\" ></th> \n",
       "        <th class=\"col_heading level0 col0\" >Average Purchase Price</th> \n",
       "        <th class=\"col_heading level0 col1\" >Number of Unique Items</th> \n",
       "        <th class=\"col_heading level0 col2\" >Total Purchases</th> \n",
       "        <th class=\"col_heading level0 col3\" >Total Revenue</th> \n",
       "    </tr></thead> \n",
       "<tbody>    <tr> \n",
       "        <th id=\"T_2eeb234c_dc88_11e7_b8fc_7c04d0bccd24level0_row0\" class=\"row_heading level0 row0\" >0</th> \n",
       "        <td id=\"T_2eeb234c_dc88_11e7_b8fc_7c04d0bccd24row0_col0\" class=\"data row0 col0\" >$2.93</td> \n",
       "        <td id=\"T_2eeb234c_dc88_11e7_b8fc_7c04d0bccd24row0_col1\" class=\"data row0 col1\" >183</td> \n",
       "        <td id=\"T_2eeb234c_dc88_11e7_b8fc_7c04d0bccd24row0_col2\" class=\"data row0 col2\" >780</td> \n",
       "        <td id=\"T_2eeb234c_dc88_11e7_b8fc_7c04d0bccd24row0_col3\" class=\"data row0 col3\" >$2,286.33</td> \n",
       "    </tr></tbody> \n",
       "</table> "
      ],
      "text/plain": [
       "<pandas.io.formats.style.Styler at 0x10a92c908>"
      ]
     },
     "execution_count": 23,
     "metadata": {},
     "output_type": "execute_result"
    }
   ],
   "source": [
    "# Purchasing Analysis (Total)\n",
    "# Number of Unique Items\n",
    "# Average Purchase Price\n",
    "# Total Number of Purchases\n",
    "# Total Revenue\n",
    "\n",
    "no_dup_items = data.drop_duplicates(['Item ID'], keep = 'last')\n",
    "\n",
    "total_unique = len(no_dup_items)\n",
    "\n",
    "total_pur = data['Price'].count()\n",
    "\n",
    "total_rev = round(data['Price'].sum(),2)\n",
    "\n",
    "avg_price = round(total_rev/total_pur, 2)\n",
    "\n",
    "pur_analysis = pd.DataFrame([{\n",
    "    \n",
    "    \"Number of Unique Items\": total_unique,\n",
    "    'Average Purchase Price': avg_price,\n",
    "    'Total Purchases': total_pur,\n",
    "    'Total Revenue': total_rev\n",
    "}])\n",
    "\n",
    "pur_analysis.style.format({'Average Purchase Price': '${:.2f}', 'Total Revenue': '${:,.2f}'})"
   ]
  },
  {
   "cell_type": "markdown",
   "metadata": {
    "collapsed": true
   },
   "source": [
    "# Gender Demographics"
   ]
  },
  {
   "cell_type": "code",
   "execution_count": 24,
   "metadata": {},
   "outputs": [
    {
     "data": {
      "text/html": [
       "<style  type=\"text/css\" >\n",
       "</style>  \n",
       "<table id=\"T_2f55261e_dc88_11e7_b3d3_7c04d0bccd24\" > \n",
       "<thead>    <tr> \n",
       "        <th class=\"blank level0\" ></th> \n",
       "        <th class=\"col_heading level0 col0\" ># of Players</th> \n",
       "        <th class=\"col_heading level0 col1\" >% of Players</th> \n",
       "    </tr>    <tr> \n",
       "        <th class=\"index_name level0\" >Gender</th> \n",
       "        <th class=\"blank\" ></th> \n",
       "        <th class=\"blank\" ></th> \n",
       "    </tr></thead> \n",
       "<tbody>    <tr> \n",
       "        <th id=\"T_2f55261e_dc88_11e7_b3d3_7c04d0bccd24level0_row0\" class=\"row_heading level0 row0\" >Male</th> \n",
       "        <td id=\"T_2f55261e_dc88_11e7_b3d3_7c04d0bccd24row0_col0\" class=\"data row0 col0\" >465</td> \n",
       "        <td id=\"T_2f55261e_dc88_11e7_b3d3_7c04d0bccd24row0_col1\" class=\"data row0 col1\" >81.2%</td> \n",
       "    </tr>    <tr> \n",
       "        <th id=\"T_2f55261e_dc88_11e7_b3d3_7c04d0bccd24level0_row1\" class=\"row_heading level0 row1\" >Female</th> \n",
       "        <td id=\"T_2f55261e_dc88_11e7_b3d3_7c04d0bccd24row1_col0\" class=\"data row1 col0\" >100</td> \n",
       "        <td id=\"T_2f55261e_dc88_11e7_b3d3_7c04d0bccd24row1_col1\" class=\"data row1 col1\" >17.5%</td> \n",
       "    </tr>    <tr> \n",
       "        <th id=\"T_2f55261e_dc88_11e7_b3d3_7c04d0bccd24level0_row2\" class=\"row_heading level0 row2\" >Other / Non-Disclosed</th> \n",
       "        <td id=\"T_2f55261e_dc88_11e7_b3d3_7c04d0bccd24row2_col0\" class=\"data row2 col0\" >8</td> \n",
       "        <td id=\"T_2f55261e_dc88_11e7_b3d3_7c04d0bccd24row2_col1\" class=\"data row2 col1\" >1.4%</td> \n",
       "    </tr></tbody> \n",
       "</table> "
      ],
      "text/plain": [
       "<pandas.io.formats.style.Styler at 0x107033eb8>"
      ]
     },
     "execution_count": 24,
     "metadata": {},
     "output_type": "execute_result"
    }
   ],
   "source": [
    "# Gender Demographics\n",
    "# Percentage and Count of Male Players\n",
    "# Percentage and Count of Female Players\n",
    "#Percentage and Count of Other / Non-Disclosed\n",
    "\n",
    "no_dup_players = data.drop_duplicates(['SN'], keep ='last')\n",
    "\n",
    "gender_counts = no_dup_players['Gender'].value_counts().reset_index()\n",
    "\n",
    "gender_counts['% of Players'] = gender_counts['Gender']/player_count * 100\n",
    "\n",
    "gender_counts.rename(columns = {'index': 'Gender', 'Gender': '# of Players'}, inplace = True)\n",
    "\n",
    "gender_counts.set_index(['Gender'], inplace = True)\n",
    "\n",
    "gender_counts.style.format({\"% of Players\": \"{:.1f}%\"})"
   ]
  },
  {
   "cell_type": "markdown",
   "metadata": {},
   "source": [
    "# Purchasing Analysis (Gender)"
   ]
  },
  {
   "cell_type": "code",
   "execution_count": 25,
   "metadata": {},
   "outputs": [
    {
     "data": {
      "text/html": [
       "<style  type=\"text/css\" >\n",
       "</style>  \n",
       "<table id=\"T_2fca82ee_dc88_11e7_8c47_7c04d0bccd24\" > \n",
       "<thead>    <tr> \n",
       "        <th class=\"blank level0\" ></th> \n",
       "        <th class=\"col_heading level0 col0\" ># of Purchases</th> \n",
       "        <th class=\"col_heading level0 col1\" >Total Purchase Value</th> \n",
       "        <th class=\"col_heading level0 col2\" >Average Purchase Price</th> \n",
       "        <th class=\"col_heading level0 col3\" >Normalized Totals</th> \n",
       "    </tr>    <tr> \n",
       "        <th class=\"index_name level0\" >Gender</th> \n",
       "        <th class=\"blank\" ></th> \n",
       "        <th class=\"blank\" ></th> \n",
       "        <th class=\"blank\" ></th> \n",
       "        <th class=\"blank\" ></th> \n",
       "    </tr></thead> \n",
       "<tbody>    <tr> \n",
       "        <th id=\"T_2fca82ee_dc88_11e7_8c47_7c04d0bccd24level0_row0\" class=\"row_heading level0 row0\" >Female</th> \n",
       "        <td id=\"T_2fca82ee_dc88_11e7_8c47_7c04d0bccd24row0_col0\" class=\"data row0 col0\" >136</td> \n",
       "        <td id=\"T_2fca82ee_dc88_11e7_8c47_7c04d0bccd24row0_col1\" class=\"data row0 col1\" >$382.91</td> \n",
       "        <td id=\"T_2fca82ee_dc88_11e7_8c47_7c04d0bccd24row0_col2\" class=\"data row0 col2\" >$2.82</td> \n",
       "        <td id=\"T_2fca82ee_dc88_11e7_8c47_7c04d0bccd24row0_col3\" class=\"data row0 col3\" >$3.83</td> \n",
       "    </tr>    <tr> \n",
       "        <th id=\"T_2fca82ee_dc88_11e7_8c47_7c04d0bccd24level0_row1\" class=\"row_heading level0 row1\" >Male</th> \n",
       "        <td id=\"T_2fca82ee_dc88_11e7_8c47_7c04d0bccd24row1_col0\" class=\"data row1 col0\" >633</td> \n",
       "        <td id=\"T_2fca82ee_dc88_11e7_8c47_7c04d0bccd24row1_col1\" class=\"data row1 col1\" >$1867.68</td> \n",
       "        <td id=\"T_2fca82ee_dc88_11e7_8c47_7c04d0bccd24row1_col2\" class=\"data row1 col2\" >$2.95</td> \n",
       "        <td id=\"T_2fca82ee_dc88_11e7_8c47_7c04d0bccd24row1_col3\" class=\"data row1 col3\" >$4.02</td> \n",
       "    </tr>    <tr> \n",
       "        <th id=\"T_2fca82ee_dc88_11e7_8c47_7c04d0bccd24level0_row2\" class=\"row_heading level0 row2\" >Other / Non-Disclosed</th> \n",
       "        <td id=\"T_2fca82ee_dc88_11e7_8c47_7c04d0bccd24row2_col0\" class=\"data row2 col0\" >11</td> \n",
       "        <td id=\"T_2fca82ee_dc88_11e7_8c47_7c04d0bccd24row2_col1\" class=\"data row2 col1\" >$35.74</td> \n",
       "        <td id=\"T_2fca82ee_dc88_11e7_8c47_7c04d0bccd24row2_col2\" class=\"data row2 col2\" >$3.25</td> \n",
       "        <td id=\"T_2fca82ee_dc88_11e7_8c47_7c04d0bccd24row2_col3\" class=\"data row2 col3\" >$4.47</td> \n",
       "    </tr></tbody> \n",
       "</table> "
      ],
      "text/plain": [
       "<pandas.io.formats.style.Styler at 0x10a920b38>"
      ]
     },
     "execution_count": 25,
     "metadata": {},
     "output_type": "execute_result"
    }
   ],
   "source": [
    "# Purchasing Analysis (Gender)\n",
    "# The below each broken by gender\n",
    "# Purchase Count\n",
    "# Average Purchase Price\n",
    "# Total Purchase Value\n",
    "# Normalized Totals\n",
    "\n",
    "count_by_gen = pd.DataFrame(data.groupby('Gender')['Gender'].count())\n",
    "\n",
    "total_by_gen = pd.DataFrame(data.groupby('Gender')['Price'].sum())\n",
    "\n",
    "analysis_gen = pd.merge(count_by_gen, total_by_gen, left_index = True, right_index = True)\n",
    "\n",
    "analysis_gen.rename(columns = {'Gender': '# of Purchases', 'Price':'Total Purchase Value'}, inplace=True)\n",
    "\n",
    "analysis_gen['Average Purchase Price'] = analysis_gen['Total Purchase Value']/analysis_gen['# of Purchases']\n",
    "\n",
    "analysis_gen = analysis_gen.merge(gender_counts, left_index = True, right_index = True)\n",
    "\n",
    "analysis_gen['Normalized Totals'] = analysis_gen['Total Purchase Value']/analysis_gen['# of Players']\n",
    "analysis_gen\n",
    "\n",
    "del analysis_gen['% of Players']\n",
    "del analysis_gen['# of Players']\n",
    "\n",
    "analysis_gen.style.format({'Total Purchase Value': '${:.2f}', 'Average Purchase Price': '${:.2f}', 'Normalized Totals': '${:.2f}'})"
   ]
  },
  {
   "cell_type": "markdown",
   "metadata": {},
   "source": [
    "# Age Demographics"
   ]
  },
  {
   "cell_type": "code",
   "execution_count": 26,
   "metadata": {},
   "outputs": [
    {
     "data": {
      "text/html": [
       "<style  type=\"text/css\" >\n",
       "</style>  \n",
       "<table id=\"T_306a04fe_dc88_11e7_be40_7c04d0bccd24\" > \n",
       "<thead>    <tr> \n",
       "        <th class=\"blank level0\" ></th> \n",
       "        <th class=\"col_heading level0 col0\" ># of Purchases</th> \n",
       "        <th class=\"col_heading level0 col1\" >Average Purchase Price</th> \n",
       "        <th class=\"col_heading level0 col2\" >Total Purchase Value</th> \n",
       "        <th class=\"col_heading level0 col3\" ># of Purchasers</th> \n",
       "        <th class=\"col_heading level0 col4\" >Normalized Totals</th> \n",
       "    </tr>    <tr> \n",
       "        <th class=\"index_name level0\" >Age</th> \n",
       "        <th class=\"blank\" ></th> \n",
       "        <th class=\"blank\" ></th> \n",
       "        <th class=\"blank\" ></th> \n",
       "        <th class=\"blank\" ></th> \n",
       "        <th class=\"blank\" ></th> \n",
       "    </tr></thead> \n",
       "<tbody>    <tr> \n",
       "        <th id=\"T_306a04fe_dc88_11e7_be40_7c04d0bccd24level0_row0\" class=\"row_heading level0 row0\" >10 - 14</th> \n",
       "        <td id=\"T_306a04fe_dc88_11e7_be40_7c04d0bccd24row0_col0\" class=\"data row0 col0\" >35</td> \n",
       "        <td id=\"T_306a04fe_dc88_11e7_be40_7c04d0bccd24row0_col1\" class=\"data row0 col1\" >$2.77</td> \n",
       "        <td id=\"T_306a04fe_dc88_11e7_be40_7c04d0bccd24row0_col2\" class=\"data row0 col2\" >$96.95</td> \n",
       "        <td id=\"T_306a04fe_dc88_11e7_be40_7c04d0bccd24row0_col3\" class=\"data row0 col3\" >23</td> \n",
       "        <td id=\"T_306a04fe_dc88_11e7_be40_7c04d0bccd24row0_col4\" class=\"data row0 col4\" >$4.22</td> \n",
       "    </tr>    <tr> \n",
       "        <th id=\"T_306a04fe_dc88_11e7_be40_7c04d0bccd24level0_row1\" class=\"row_heading level0 row1\" >15 - 19</th> \n",
       "        <td id=\"T_306a04fe_dc88_11e7_be40_7c04d0bccd24row1_col0\" class=\"data row1 col0\" >133</td> \n",
       "        <td id=\"T_306a04fe_dc88_11e7_be40_7c04d0bccd24row1_col1\" class=\"data row1 col1\" >$2.91</td> \n",
       "        <td id=\"T_306a04fe_dc88_11e7_be40_7c04d0bccd24row1_col2\" class=\"data row1 col2\" >$386.42</td> \n",
       "        <td id=\"T_306a04fe_dc88_11e7_be40_7c04d0bccd24row1_col3\" class=\"data row1 col3\" >100</td> \n",
       "        <td id=\"T_306a04fe_dc88_11e7_be40_7c04d0bccd24row1_col4\" class=\"data row1 col4\" >$3.86</td> \n",
       "    </tr>    <tr> \n",
       "        <th id=\"T_306a04fe_dc88_11e7_be40_7c04d0bccd24level0_row2\" class=\"row_heading level0 row2\" >20 - 24</th> \n",
       "        <td id=\"T_306a04fe_dc88_11e7_be40_7c04d0bccd24row2_col0\" class=\"data row2 col0\" >336</td> \n",
       "        <td id=\"T_306a04fe_dc88_11e7_be40_7c04d0bccd24row2_col1\" class=\"data row2 col1\" >$2.91</td> \n",
       "        <td id=\"T_306a04fe_dc88_11e7_be40_7c04d0bccd24row2_col2\" class=\"data row2 col2\" >$978.77</td> \n",
       "        <td id=\"T_306a04fe_dc88_11e7_be40_7c04d0bccd24row2_col3\" class=\"data row2 col3\" >259</td> \n",
       "        <td id=\"T_306a04fe_dc88_11e7_be40_7c04d0bccd24row2_col4\" class=\"data row2 col4\" >$3.78</td> \n",
       "    </tr>    <tr> \n",
       "        <th id=\"T_306a04fe_dc88_11e7_be40_7c04d0bccd24level0_row3\" class=\"row_heading level0 row3\" >25 - 29</th> \n",
       "        <td id=\"T_306a04fe_dc88_11e7_be40_7c04d0bccd24row3_col0\" class=\"data row3 col0\" >125</td> \n",
       "        <td id=\"T_306a04fe_dc88_11e7_be40_7c04d0bccd24row3_col1\" class=\"data row3 col1\" >$2.96</td> \n",
       "        <td id=\"T_306a04fe_dc88_11e7_be40_7c04d0bccd24row3_col2\" class=\"data row3 col2\" >$370.33</td> \n",
       "        <td id=\"T_306a04fe_dc88_11e7_be40_7c04d0bccd24row3_col3\" class=\"data row3 col3\" >87</td> \n",
       "        <td id=\"T_306a04fe_dc88_11e7_be40_7c04d0bccd24row3_col4\" class=\"data row3 col4\" >$4.26</td> \n",
       "    </tr>    <tr> \n",
       "        <th id=\"T_306a04fe_dc88_11e7_be40_7c04d0bccd24level0_row4\" class=\"row_heading level0 row4\" >30 - 34</th> \n",
       "        <td id=\"T_306a04fe_dc88_11e7_be40_7c04d0bccd24row4_col0\" class=\"data row4 col0\" >64</td> \n",
       "        <td id=\"T_306a04fe_dc88_11e7_be40_7c04d0bccd24row4_col1\" class=\"data row4 col1\" >$3.08</td> \n",
       "        <td id=\"T_306a04fe_dc88_11e7_be40_7c04d0bccd24row4_col2\" class=\"data row4 col2\" >$197.25</td> \n",
       "        <td id=\"T_306a04fe_dc88_11e7_be40_7c04d0bccd24row4_col3\" class=\"data row4 col3\" >47</td> \n",
       "        <td id=\"T_306a04fe_dc88_11e7_be40_7c04d0bccd24row4_col4\" class=\"data row4 col4\" >$4.20</td> \n",
       "    </tr>    <tr> \n",
       "        <th id=\"T_306a04fe_dc88_11e7_be40_7c04d0bccd24level0_row5\" class=\"row_heading level0 row5\" >35 - 39</th> \n",
       "        <td id=\"T_306a04fe_dc88_11e7_be40_7c04d0bccd24row5_col0\" class=\"data row5 col0\" >42</td> \n",
       "        <td id=\"T_306a04fe_dc88_11e7_be40_7c04d0bccd24row5_col1\" class=\"data row5 col1\" >$2.84</td> \n",
       "        <td id=\"T_306a04fe_dc88_11e7_be40_7c04d0bccd24row5_col2\" class=\"data row5 col2\" >$119.40</td> \n",
       "        <td id=\"T_306a04fe_dc88_11e7_be40_7c04d0bccd24row5_col3\" class=\"data row5 col3\" >27</td> \n",
       "        <td id=\"T_306a04fe_dc88_11e7_be40_7c04d0bccd24row5_col4\" class=\"data row5 col4\" >$4.42</td> \n",
       "    </tr>    <tr> \n",
       "        <th id=\"T_306a04fe_dc88_11e7_be40_7c04d0bccd24level0_row6\" class=\"row_heading level0 row6\" >< 10</th> \n",
       "        <td id=\"T_306a04fe_dc88_11e7_be40_7c04d0bccd24row6_col0\" class=\"data row6 col0\" >28</td> \n",
       "        <td id=\"T_306a04fe_dc88_11e7_be40_7c04d0bccd24row6_col1\" class=\"data row6 col1\" >$2.98</td> \n",
       "        <td id=\"T_306a04fe_dc88_11e7_be40_7c04d0bccd24row6_col2\" class=\"data row6 col2\" >$83.46</td> \n",
       "        <td id=\"T_306a04fe_dc88_11e7_be40_7c04d0bccd24row6_col3\" class=\"data row6 col3\" >19</td> \n",
       "        <td id=\"T_306a04fe_dc88_11e7_be40_7c04d0bccd24row6_col4\" class=\"data row6 col4\" >$4.39</td> \n",
       "    </tr>    <tr> \n",
       "        <th id=\"T_306a04fe_dc88_11e7_be40_7c04d0bccd24level0_row7\" class=\"row_heading level0 row7\" >> 40</th> \n",
       "        <td id=\"T_306a04fe_dc88_11e7_be40_7c04d0bccd24row7_col0\" class=\"data row7 col0\" >17</td> \n",
       "        <td id=\"T_306a04fe_dc88_11e7_be40_7c04d0bccd24row7_col1\" class=\"data row7 col1\" >$3.16</td> \n",
       "        <td id=\"T_306a04fe_dc88_11e7_be40_7c04d0bccd24row7_col2\" class=\"data row7 col2\" >$53.75</td> \n",
       "        <td id=\"T_306a04fe_dc88_11e7_be40_7c04d0bccd24row7_col3\" class=\"data row7 col3\" >11</td> \n",
       "        <td id=\"T_306a04fe_dc88_11e7_be40_7c04d0bccd24row7_col4\" class=\"data row7 col4\" >$4.89</td> \n",
       "    </tr></tbody> \n",
       "</table> "
      ],
      "text/plain": [
       "<pandas.io.formats.style.Styler at 0x109e656d8>"
      ]
     },
     "execution_count": 26,
     "metadata": {},
     "output_type": "execute_result"
    }
   ],
   "source": [
    "# Age Demographics\n",
    "# The below each broken into bins of 4 years (i.e. <10, 10-14, 15-19, etc.)\n",
    "# Purchase Count\n",
    "# Average Purchase Price\n",
    "# Total Purchase Value\n",
    "# Normalized Totals\n",
    "\n",
    "data.loc[(data['Age'] < 10), 'age_bin'] = \"< 10\"\n",
    "data.loc[(data['Age'] >= 10) & (data['Age'] <= 14), 'age_bin'] = \"10 - 14\"\n",
    "data.loc[(data['Age'] >= 15) & (data['Age'] <= 19), 'age_bin'] = \"15 - 19\"\n",
    "data.loc[(data['Age'] >= 20) & (data['Age'] <= 24), 'age_bin'] = \"20 - 24\"\n",
    "data.loc[(data['Age'] >= 25) & (data['Age'] <= 29), 'age_bin'] = \"25 - 29\"\n",
    "data.loc[(data['Age'] >= 30) & (data['Age'] <= 34), 'age_bin'] = \"30 - 34\"\n",
    "data.loc[(data['Age'] >= 35) & (data['Age'] <= 39), 'age_bin'] = \"35 - 39\"\n",
    "data.loc[(data['Age'] >= 40), 'age_bin'] = \"> 40\"\n",
    "\n",
    "count_age = pd.DataFrame(data.groupby('age_bin')['SN'].count())\n",
    "\n",
    "avg_price_age = pd.DataFrame(data.groupby('age_bin')['Price'].mean())\n",
    "\n",
    "tot_pur_age = pd.DataFrame(data.groupby('age_bin')['Price'].sum())\n",
    "\n",
    "no_dup_age = pd.DataFrame(data.drop_duplicates('SN', keep = 'last').groupby('age_bin')['SN'].count())\n",
    "\n",
    "merge_age = pd.merge(count_age, avg_price_age, left_index = True, right_index = True).merge(tot_pur_age, left_index = True, right_index = True).merge(no_dup_age, left_index = True, right_index = True)\n",
    "\n",
    "merge_age.rename(columns = {\"SN_x\": \"# of Purchases\", \"Price_x\": \"Average Purchase Price\", \"Price_y\": \"Total Purchase Value\", \"SN_y\": \"# of Purchasers\"}, inplace = True)\n",
    "\n",
    "merge_age['Normalized Totals'] = merge_age['Total Purchase Value']/merge_age['# of Purchasers']\n",
    "\n",
    "merge_age.index.rename(\"Age\", inplace = True)\n",
    "\n",
    "merge_age.style.format({'Average Purchase Price': '${:.2f}', 'Total Purchase Value': '${:.2f}', 'Normalized Totals': '${:.2f}'})"
   ]
  },
  {
   "cell_type": "markdown",
   "metadata": {},
   "source": [
    "# Top Spenders"
   ]
  },
  {
   "cell_type": "code",
   "execution_count": 27,
   "metadata": {},
   "outputs": [
    {
     "data": {
      "text/html": [
       "<style  type=\"text/css\" >\n",
       "</style>  \n",
       "<table id=\"T_30e150ae_dc88_11e7_9a46_7c04d0bccd24\" > \n",
       "<thead>    <tr> \n",
       "        <th class=\"blank level0\" ></th> \n",
       "        <th class=\"col_heading level0 col0\" >Total Purchase Value</th> \n",
       "        <th class=\"col_heading level0 col1\" >Purchase Count</th> \n",
       "        <th class=\"col_heading level0 col2\" >Average Purchase Price</th> \n",
       "    </tr>    <tr> \n",
       "        <th class=\"index_name level0\" >SN</th> \n",
       "        <th class=\"blank\" ></th> \n",
       "        <th class=\"blank\" ></th> \n",
       "        <th class=\"blank\" ></th> \n",
       "    </tr></thead> \n",
       "<tbody>    <tr> \n",
       "        <th id=\"T_30e150ae_dc88_11e7_9a46_7c04d0bccd24level0_row0\" class=\"row_heading level0 row0\" >Undirrala66</th> \n",
       "        <td id=\"T_30e150ae_dc88_11e7_9a46_7c04d0bccd24row0_col0\" class=\"data row0 col0\" >$17.06</td> \n",
       "        <td id=\"T_30e150ae_dc88_11e7_9a46_7c04d0bccd24row0_col1\" class=\"data row0 col1\" >5</td> \n",
       "        <td id=\"T_30e150ae_dc88_11e7_9a46_7c04d0bccd24row0_col2\" class=\"data row0 col2\" >$3.41</td> \n",
       "    </tr>    <tr> \n",
       "        <th id=\"T_30e150ae_dc88_11e7_9a46_7c04d0bccd24level0_row1\" class=\"row_heading level0 row1\" >Saedue76</th> \n",
       "        <td id=\"T_30e150ae_dc88_11e7_9a46_7c04d0bccd24row1_col0\" class=\"data row1 col0\" >$13.56</td> \n",
       "        <td id=\"T_30e150ae_dc88_11e7_9a46_7c04d0bccd24row1_col1\" class=\"data row1 col1\" >4</td> \n",
       "        <td id=\"T_30e150ae_dc88_11e7_9a46_7c04d0bccd24row1_col2\" class=\"data row1 col2\" >$3.39</td> \n",
       "    </tr>    <tr> \n",
       "        <th id=\"T_30e150ae_dc88_11e7_9a46_7c04d0bccd24level0_row2\" class=\"row_heading level0 row2\" >Mindimnya67</th> \n",
       "        <td id=\"T_30e150ae_dc88_11e7_9a46_7c04d0bccd24row2_col0\" class=\"data row2 col0\" >$12.74</td> \n",
       "        <td id=\"T_30e150ae_dc88_11e7_9a46_7c04d0bccd24row2_col1\" class=\"data row2 col1\" >4</td> \n",
       "        <td id=\"T_30e150ae_dc88_11e7_9a46_7c04d0bccd24row2_col2\" class=\"data row2 col2\" >$3.18</td> \n",
       "    </tr>    <tr> \n",
       "        <th id=\"T_30e150ae_dc88_11e7_9a46_7c04d0bccd24level0_row3\" class=\"row_heading level0 row3\" >Haellysu29</th> \n",
       "        <td id=\"T_30e150ae_dc88_11e7_9a46_7c04d0bccd24row3_col0\" class=\"data row3 col0\" >$12.73</td> \n",
       "        <td id=\"T_30e150ae_dc88_11e7_9a46_7c04d0bccd24row3_col1\" class=\"data row3 col1\" >3</td> \n",
       "        <td id=\"T_30e150ae_dc88_11e7_9a46_7c04d0bccd24row3_col2\" class=\"data row3 col2\" >$4.24</td> \n",
       "    </tr>    <tr> \n",
       "        <th id=\"T_30e150ae_dc88_11e7_9a46_7c04d0bccd24level0_row4\" class=\"row_heading level0 row4\" >Eoda93</th> \n",
       "        <td id=\"T_30e150ae_dc88_11e7_9a46_7c04d0bccd24row4_col0\" class=\"data row4 col0\" >$11.58</td> \n",
       "        <td id=\"T_30e150ae_dc88_11e7_9a46_7c04d0bccd24row4_col1\" class=\"data row4 col1\" >3</td> \n",
       "        <td id=\"T_30e150ae_dc88_11e7_9a46_7c04d0bccd24row4_col2\" class=\"data row4 col2\" >$3.86</td> \n",
       "    </tr></tbody> \n",
       "</table> "
      ],
      "text/plain": [
       "<pandas.io.formats.style.Styler at 0x10a976c88>"
      ]
     },
     "execution_count": 27,
     "metadata": {},
     "output_type": "execute_result"
    }
   ],
   "source": [
    "# Top Spenders\n",
    "# Identify the the top 5 spenders in the game by total purchase value, then list (in a table):\n",
    "# SN\n",
    "# Purchase Count\n",
    "# Average Purchase Price\n",
    "# Total Purchase Value\n",
    "\n",
    "purchase_amt_by_SN = pd.DataFrame(data.groupby('SN')['Price'].sum())\n",
    "num_purchase_by_SN = pd.DataFrame(data.groupby('SN')['Price'].count())\n",
    "avg_purchase_by_SN = pd.DataFrame(data.groupby('SN')['Price'].mean())\n",
    "\n",
    "merged_top5 = pd.merge(purchase_amt_by_SN, num_purchase_by_SN, left_index = True, right_index = True).merge(avg_purchase_by_SN, left_index=True, right_index=True)\n",
    "\n",
    "merged_top5.rename(columns = {'Price_x': 'Total Purchase Value', 'Price_y':'Purchase Count', 'Price':'Average Purchase Price'}, inplace = True)\n",
    "\n",
    "merged_top5.sort_values('Total Purchase Value', ascending = False, inplace=True)\n",
    "\n",
    "merged_top5 = merged_top5.head()\n",
    "\n",
    "merged_top5.style.format({'Total Purchase Value': '${:.2f}', 'Average Purchase Price': '${:.2f}'})"
   ]
  },
  {
   "cell_type": "markdown",
   "metadata": {},
   "source": [
    "# Most Popular Items"
   ]
  },
  {
   "cell_type": "code",
   "execution_count": 28,
   "metadata": {},
   "outputs": [
    {
     "data": {
      "text/html": [
       "<style  type=\"text/css\" >\n",
       "</style>  \n",
       "<table id=\"T_317b41f0_dc88_11e7_ac95_7c04d0bccd24\" > \n",
       "<thead>    <tr> \n",
       "        <th class=\"blank level0\" ></th> \n",
       "        <th class=\"col_heading level0 col0\" >Item Name</th> \n",
       "        <th class=\"col_heading level0 col1\" >Purchase Count</th> \n",
       "        <th class=\"col_heading level0 col2\" >Item Price</th> \n",
       "        <th class=\"col_heading level0 col3\" >Total Purchase Value</th> \n",
       "    </tr>    <tr> \n",
       "        <th class=\"index_name level0\" >Item ID</th> \n",
       "        <th class=\"blank\" ></th> \n",
       "        <th class=\"blank\" ></th> \n",
       "        <th class=\"blank\" ></th> \n",
       "        <th class=\"blank\" ></th> \n",
       "    </tr></thead> \n",
       "<tbody>    <tr> \n",
       "        <th id=\"T_317b41f0_dc88_11e7_ac95_7c04d0bccd24level0_row0\" class=\"row_heading level0 row0\" >39</th> \n",
       "        <td id=\"T_317b41f0_dc88_11e7_ac95_7c04d0bccd24row0_col0\" class=\"data row0 col0\" >Betrayal, Whisper of Grieving Widows</td> \n",
       "        <td id=\"T_317b41f0_dc88_11e7_ac95_7c04d0bccd24row0_col1\" class=\"data row0 col1\" >11</td> \n",
       "        <td id=\"T_317b41f0_dc88_11e7_ac95_7c04d0bccd24row0_col2\" class=\"data row0 col2\" >$2.35</td> \n",
       "        <td id=\"T_317b41f0_dc88_11e7_ac95_7c04d0bccd24row0_col3\" class=\"data row0 col3\" >$25.85</td> \n",
       "    </tr>    <tr> \n",
       "        <th id=\"T_317b41f0_dc88_11e7_ac95_7c04d0bccd24level0_row1\" class=\"row_heading level0 row1\" >84</th> \n",
       "        <td id=\"T_317b41f0_dc88_11e7_ac95_7c04d0bccd24row1_col0\" class=\"data row1 col0\" >Arcane Gem</td> \n",
       "        <td id=\"T_317b41f0_dc88_11e7_ac95_7c04d0bccd24row1_col1\" class=\"data row1 col1\" >11</td> \n",
       "        <td id=\"T_317b41f0_dc88_11e7_ac95_7c04d0bccd24row1_col2\" class=\"data row1 col2\" >$2.23</td> \n",
       "        <td id=\"T_317b41f0_dc88_11e7_ac95_7c04d0bccd24row1_col3\" class=\"data row1 col3\" >$24.53</td> \n",
       "    </tr>    <tr> \n",
       "        <th id=\"T_317b41f0_dc88_11e7_ac95_7c04d0bccd24level0_row2\" class=\"row_heading level0 row2\" >31</th> \n",
       "        <td id=\"T_317b41f0_dc88_11e7_ac95_7c04d0bccd24row2_col0\" class=\"data row2 col0\" >Trickster</td> \n",
       "        <td id=\"T_317b41f0_dc88_11e7_ac95_7c04d0bccd24row2_col1\" class=\"data row2 col1\" >9</td> \n",
       "        <td id=\"T_317b41f0_dc88_11e7_ac95_7c04d0bccd24row2_col2\" class=\"data row2 col2\" >$2.07</td> \n",
       "        <td id=\"T_317b41f0_dc88_11e7_ac95_7c04d0bccd24row2_col3\" class=\"data row2 col3\" >$18.63</td> \n",
       "    </tr>    <tr> \n",
       "        <th id=\"T_317b41f0_dc88_11e7_ac95_7c04d0bccd24level0_row3\" class=\"row_heading level0 row3\" >175</th> \n",
       "        <td id=\"T_317b41f0_dc88_11e7_ac95_7c04d0bccd24row3_col0\" class=\"data row3 col0\" >Woeful Adamantite Claymore</td> \n",
       "        <td id=\"T_317b41f0_dc88_11e7_ac95_7c04d0bccd24row3_col1\" class=\"data row3 col1\" >9</td> \n",
       "        <td id=\"T_317b41f0_dc88_11e7_ac95_7c04d0bccd24row3_col2\" class=\"data row3 col2\" >$1.24</td> \n",
       "        <td id=\"T_317b41f0_dc88_11e7_ac95_7c04d0bccd24row3_col3\" class=\"data row3 col3\" >$11.16</td> \n",
       "    </tr>    <tr> \n",
       "        <th id=\"T_317b41f0_dc88_11e7_ac95_7c04d0bccd24level0_row4\" class=\"row_heading level0 row4\" >13</th> \n",
       "        <td id=\"T_317b41f0_dc88_11e7_ac95_7c04d0bccd24row4_col0\" class=\"data row4 col0\" >Serenity</td> \n",
       "        <td id=\"T_317b41f0_dc88_11e7_ac95_7c04d0bccd24row4_col1\" class=\"data row4 col1\" >9</td> \n",
       "        <td id=\"T_317b41f0_dc88_11e7_ac95_7c04d0bccd24row4_col2\" class=\"data row4 col2\" >$1.49</td> \n",
       "        <td id=\"T_317b41f0_dc88_11e7_ac95_7c04d0bccd24row4_col3\" class=\"data row4 col3\" >$13.41</td> \n",
       "    </tr></tbody> \n",
       "</table> "
      ],
      "text/plain": [
       "<pandas.io.formats.style.Styler at 0x109e51550>"
      ]
     },
     "execution_count": 28,
     "metadata": {},
     "output_type": "execute_result"
    }
   ],
   "source": [
    "# Most Popular Items\n",
    "# Identify the 5 most popular items by purchase count, then list (in a table):\n",
    "# Item ID\n",
    "# Item Name\n",
    "# Purchase Count\n",
    "# Item Price\n",
    "# Total Purchase Value\n",
    "\n",
    "top5_items_ID = pd.DataFrame(data.groupby('Item ID')['Item ID'].count())\n",
    "\n",
    "top5_items_ID.sort_values('Item ID', ascending = False, inplace = True)\n",
    "\n",
    "top5_items_ID = top5_items_ID.iloc[0:5][:]\n",
    "\n",
    "top5_items_total = pd.DataFrame(data.groupby('Item ID')['Price'].sum())\n",
    "\n",
    "top5_items = pd.merge(top5_items_ID, top5_items_total, left_index = True, right_index = True)\n",
    "\n",
    "no_dup_items = data.drop_duplicates(['Item ID'], keep = 'last')\n",
    "\n",
    "top5_merge_ID = pd.merge(top5_items, no_dup_items, left_index = True, right_on = 'Item ID')\n",
    "\n",
    "top5_merge_ID = top5_merge_ID[['Item ID', 'Item Name', 'Item ID_x', 'Price_y', 'Price_x']]\n",
    "\n",
    "top5_merge_ID.set_index(['Item ID'], inplace = True)\n",
    "\n",
    "top5_merge_ID.rename(columns =  {'Item ID_x': 'Purchase Count', 'Price_y': 'Item Price', 'Price_x': 'Total Purchase Value'}, inplace=True)\n",
    "\n",
    "top5_merge_ID.style.format({'Item Price': '${:.2f}', 'Total Purchase Value': '${:.2f}'})"
   ]
  },
  {
   "cell_type": "markdown",
   "metadata": {},
   "source": [
    "# Most Profitable Items"
   ]
  },
  {
   "cell_type": "code",
   "execution_count": 29,
   "metadata": {},
   "outputs": [
    {
     "data": {
      "text/html": [
       "<style  type=\"text/css\" >\n",
       "</style>  \n",
       "<table id=\"T_3205fdfe_dc88_11e7_96ad_7c04d0bccd24\" > \n",
       "<thead>    <tr> \n",
       "        <th class=\"blank level0\" ></th> \n",
       "        <th class=\"col_heading level0 col0\" >Item Name</th> \n",
       "        <th class=\"col_heading level0 col1\" >Purchase Count</th> \n",
       "        <th class=\"col_heading level0 col2\" >Item Price</th> \n",
       "        <th class=\"col_heading level0 col3\" >Total Purchase Value</th> \n",
       "    </tr>    <tr> \n",
       "        <th class=\"index_name level0\" >Item ID</th> \n",
       "        <th class=\"blank\" ></th> \n",
       "        <th class=\"blank\" ></th> \n",
       "        <th class=\"blank\" ></th> \n",
       "        <th class=\"blank\" ></th> \n",
       "    </tr></thead> \n",
       "<tbody>    <tr> \n",
       "        <th id=\"T_3205fdfe_dc88_11e7_96ad_7c04d0bccd24level0_row0\" class=\"row_heading level0 row0\" >34</th> \n",
       "        <td id=\"T_3205fdfe_dc88_11e7_96ad_7c04d0bccd24row0_col0\" class=\"data row0 col0\" >Retribution Axe</td> \n",
       "        <td id=\"T_3205fdfe_dc88_11e7_96ad_7c04d0bccd24row0_col1\" class=\"data row0 col1\" >9</td> \n",
       "        <td id=\"T_3205fdfe_dc88_11e7_96ad_7c04d0bccd24row0_col2\" class=\"data row0 col2\" >$4.14</td> \n",
       "        <td id=\"T_3205fdfe_dc88_11e7_96ad_7c04d0bccd24row0_col3\" class=\"data row0 col3\" >$37.26</td> \n",
       "    </tr>    <tr> \n",
       "        <th id=\"T_3205fdfe_dc88_11e7_96ad_7c04d0bccd24level0_row1\" class=\"row_heading level0 row1\" >115</th> \n",
       "        <td id=\"T_3205fdfe_dc88_11e7_96ad_7c04d0bccd24row1_col0\" class=\"data row1 col0\" >Spectral Diamond Doomblade</td> \n",
       "        <td id=\"T_3205fdfe_dc88_11e7_96ad_7c04d0bccd24row1_col1\" class=\"data row1 col1\" >7</td> \n",
       "        <td id=\"T_3205fdfe_dc88_11e7_96ad_7c04d0bccd24row1_col2\" class=\"data row1 col2\" >$4.25</td> \n",
       "        <td id=\"T_3205fdfe_dc88_11e7_96ad_7c04d0bccd24row1_col3\" class=\"data row1 col3\" >$29.75</td> \n",
       "    </tr>    <tr> \n",
       "        <th id=\"T_3205fdfe_dc88_11e7_96ad_7c04d0bccd24level0_row2\" class=\"row_heading level0 row2\" >32</th> \n",
       "        <td id=\"T_3205fdfe_dc88_11e7_96ad_7c04d0bccd24row2_col0\" class=\"data row2 col0\" >Orenmir</td> \n",
       "        <td id=\"T_3205fdfe_dc88_11e7_96ad_7c04d0bccd24row2_col1\" class=\"data row2 col1\" >6</td> \n",
       "        <td id=\"T_3205fdfe_dc88_11e7_96ad_7c04d0bccd24row2_col2\" class=\"data row2 col2\" >$4.95</td> \n",
       "        <td id=\"T_3205fdfe_dc88_11e7_96ad_7c04d0bccd24row2_col3\" class=\"data row2 col3\" >$29.70</td> \n",
       "    </tr>    <tr> \n",
       "        <th id=\"T_3205fdfe_dc88_11e7_96ad_7c04d0bccd24level0_row3\" class=\"row_heading level0 row3\" >103</th> \n",
       "        <td id=\"T_3205fdfe_dc88_11e7_96ad_7c04d0bccd24row3_col0\" class=\"data row3 col0\" >Singed Scalpel</td> \n",
       "        <td id=\"T_3205fdfe_dc88_11e7_96ad_7c04d0bccd24row3_col1\" class=\"data row3 col1\" >6</td> \n",
       "        <td id=\"T_3205fdfe_dc88_11e7_96ad_7c04d0bccd24row3_col2\" class=\"data row3 col2\" >$4.87</td> \n",
       "        <td id=\"T_3205fdfe_dc88_11e7_96ad_7c04d0bccd24row3_col3\" class=\"data row3 col3\" >$29.22</td> \n",
       "    </tr>    <tr> \n",
       "        <th id=\"T_3205fdfe_dc88_11e7_96ad_7c04d0bccd24level0_row4\" class=\"row_heading level0 row4\" >107</th> \n",
       "        <td id=\"T_3205fdfe_dc88_11e7_96ad_7c04d0bccd24row4_col0\" class=\"data row4 col0\" >Splitter, Foe Of Subtlety</td> \n",
       "        <td id=\"T_3205fdfe_dc88_11e7_96ad_7c04d0bccd24row4_col1\" class=\"data row4 col1\" >8</td> \n",
       "        <td id=\"T_3205fdfe_dc88_11e7_96ad_7c04d0bccd24row4_col2\" class=\"data row4 col2\" >$3.61</td> \n",
       "        <td id=\"T_3205fdfe_dc88_11e7_96ad_7c04d0bccd24row4_col3\" class=\"data row4 col3\" >$28.88</td> \n",
       "    </tr></tbody> \n",
       "</table> "
      ],
      "text/plain": [
       "<pandas.io.formats.style.Styler at 0x10a91d668>"
      ]
     },
     "execution_count": 29,
     "metadata": {},
     "output_type": "execute_result"
    }
   ],
   "source": [
    "# Most Profitable Items\n",
    "# Identify the 5 most profitable items by total purchase value, then list (in a table):\n",
    "# Item ID\n",
    "# Item Name\n",
    "# Purchase Count\n",
    "# Item Price\n",
    "# Total Purchase Value\n",
    "\n",
    "top5_profit = pd.DataFrame(data.groupby('Item ID')['Price'].sum())\n",
    "top5_profit.sort_values('Price', ascending = False, inplace = True)\n",
    "\n",
    "top5_profit = top5_profit.iloc[0:5][:]\n",
    "\n",
    "pur_count_profit = pd.DataFrame(data.groupby('Item ID')['Item ID'].count())\n",
    "\n",
    "top5_profit = pd.merge(top5_profit, pur_count_profit, left_index = True, right_index = True, how = 'left')\n",
    "top5_merge_profit = pd.merge(top5_profit, no_dup_items, left_index = True, right_on = 'Item ID', how = 'left')\n",
    "top5_merge_profit = top5_merge_profit[['Item ID', 'Item Name', 'Item ID_x', 'Price_y','Price_x']]\n",
    "top5_merge_profit.set_index(['Item ID'], inplace=True)\n",
    "top5_merge_profit.rename(columns = {'Item ID_x': 'Purchase Count', 'Price_y': 'Item Price', 'Price_x': 'Total Purchase Value'}, inplace = True)\n",
    "top5_merge_profit.style.format({'Item Price': '${:.2f}', 'Total Purchase Value': '${:.2f}'})"
   ]
  }
 ],
 "metadata": {
  "kernelspec": {
   "display_name": "Python 3",
   "language": "python",
   "name": "python3"
  },
  "language_info": {
   "codemirror_mode": {
    "name": "ipython",
    "version": 3
   },
   "file_extension": ".py",
   "mimetype": "text/x-python",
   "name": "python",
   "nbconvert_exporter": "python",
   "pygments_lexer": "ipython3",
   "version": "3.6.3"
  }
 },
 "nbformat": 4,
 "nbformat_minor": 2
}
